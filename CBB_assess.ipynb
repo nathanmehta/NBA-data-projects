{
 "cells": [
  {
   "cell_type": "code",
   "execution_count": 1,
   "id": "5b837be7-2fdb-47a5-88db-c3976164e5ff",
   "metadata": {},
   "outputs": [],
   "source": [
    "import numpy as np\n",
    "import pandas as pd\n",
    "\n",
    "import matplotlib\n",
    "import matplotlib.pyplot as plt\n",
    "import seaborn as sns\n",
    "sns.set()\n",
    "plt.style.use('fivethirtyeight')"
   ]
  },
  {
   "cell_type": "markdown",
   "id": "35861c2c-1cc2-47d6-9f64-50dde83d6538",
   "metadata": {},
   "source": [
    "## Load Data "
   ]
  },
  {
   "cell_type": "code",
   "execution_count": 2,
   "id": "eb79ab6c-ede8-4899-b5ec-1e40faa31f9b",
   "metadata": {},
   "outputs": [],
   "source": [
    "player_stats = pd.read_csv('player-game-stats.csv')"
   ]
  },
  {
   "cell_type": "code",
   "execution_count": 3,
   "id": "7125e7c5-d790-4a32-87a1-4e12f92fd8d2",
   "metadata": {},
   "outputs": [
    {
     "data": {
      "text/html": [
       "<div>\n",
       "<style scoped>\n",
       "    .dataframe tbody tr th:only-of-type {\n",
       "        vertical-align: middle;\n",
       "    }\n",
       "\n",
       "    .dataframe tbody tr th {\n",
       "        vertical-align: top;\n",
       "    }\n",
       "\n",
       "    .dataframe thead th {\n",
       "        text-align: right;\n",
       "    }\n",
       "</style>\n",
       "<table border=\"1\" class=\"dataframe\">\n",
       "  <thead>\n",
       "    <tr style=\"text-align: right;\">\n",
       "      <th></th>\n",
       "      <th>gameId</th>\n",
       "      <th>gameDate</th>\n",
       "      <th>teamId</th>\n",
       "      <th>teamMarket</th>\n",
       "      <th>playerId</th>\n",
       "      <th>fullName</th>\n",
       "      <th>mins</th>\n",
       "      <th>ptsScored</th>\n",
       "      <th>reb</th>\n",
       "      <th>orb</th>\n",
       "      <th>drb</th>\n",
       "      <th>stl</th>\n",
       "      <th>blk</th>\n",
       "      <th>tov</th>\n",
       "      <th>fgm</th>\n",
       "      <th>fga</th>\n",
       "      <th>fgm2</th>\n",
       "      <th>fga2</th>\n",
       "      <th>fgm3</th>\n",
       "      <th>fga3</th>\n",
       "    </tr>\n",
       "  </thead>\n",
       "  <tbody>\n",
       "    <tr>\n",
       "      <th>0</th>\n",
       "      <td>1977819</td>\n",
       "      <td>2021-11-13</td>\n",
       "      <td>103301</td>\n",
       "      <td>Arkansas</td>\n",
       "      <td>1687713</td>\n",
       "      <td>Chance Moore</td>\n",
       "      <td>1.93</td>\n",
       "      <td>0</td>\n",
       "      <td>0</td>\n",
       "      <td>0</td>\n",
       "      <td>0</td>\n",
       "      <td>0</td>\n",
       "      <td>0</td>\n",
       "      <td>0</td>\n",
       "      <td>0</td>\n",
       "      <td>0</td>\n",
       "      <td>0</td>\n",
       "      <td>0</td>\n",
       "      <td>0</td>\n",
       "      <td>0</td>\n",
       "    </tr>\n",
       "    <tr>\n",
       "      <th>1</th>\n",
       "      <td>1977819</td>\n",
       "      <td>2021-11-13</td>\n",
       "      <td>103301</td>\n",
       "      <td>Arkansas</td>\n",
       "      <td>950721</td>\n",
       "      <td>Trey Wade</td>\n",
       "      <td>16.23</td>\n",
       "      <td>5</td>\n",
       "      <td>2</td>\n",
       "      <td>1</td>\n",
       "      <td>1</td>\n",
       "      <td>0</td>\n",
       "      <td>1</td>\n",
       "      <td>0</td>\n",
       "      <td>2</td>\n",
       "      <td>4</td>\n",
       "      <td>1</td>\n",
       "      <td>2</td>\n",
       "      <td>1</td>\n",
       "      <td>2</td>\n",
       "    </tr>\n",
       "    <tr>\n",
       "      <th>2</th>\n",
       "      <td>1977819</td>\n",
       "      <td>2021-11-13</td>\n",
       "      <td>103301</td>\n",
       "      <td>Arkansas</td>\n",
       "      <td>942800</td>\n",
       "      <td>JD Notae</td>\n",
       "      <td>25.93</td>\n",
       "      <td>18</td>\n",
       "      <td>1</td>\n",
       "      <td>0</td>\n",
       "      <td>1</td>\n",
       "      <td>2</td>\n",
       "      <td>0</td>\n",
       "      <td>0</td>\n",
       "      <td>7</td>\n",
       "      <td>13</td>\n",
       "      <td>3</td>\n",
       "      <td>6</td>\n",
       "      <td>4</td>\n",
       "      <td>7</td>\n",
       "    </tr>\n",
       "    <tr>\n",
       "      <th>3</th>\n",
       "      <td>1977819</td>\n",
       "      <td>2021-11-13</td>\n",
       "      <td>103301</td>\n",
       "      <td>Arkansas</td>\n",
       "      <td>1596219</td>\n",
       "      <td>Khalen Robinson</td>\n",
       "      <td>9.72</td>\n",
       "      <td>3</td>\n",
       "      <td>0</td>\n",
       "      <td>0</td>\n",
       "      <td>0</td>\n",
       "      <td>1</td>\n",
       "      <td>0</td>\n",
       "      <td>1</td>\n",
       "      <td>1</td>\n",
       "      <td>3</td>\n",
       "      <td>0</td>\n",
       "      <td>1</td>\n",
       "      <td>1</td>\n",
       "      <td>2</td>\n",
       "    </tr>\n",
       "    <tr>\n",
       "      <th>4</th>\n",
       "      <td>1977819</td>\n",
       "      <td>2021-11-13</td>\n",
       "      <td>103301</td>\n",
       "      <td>Arkansas</td>\n",
       "      <td>1596216</td>\n",
       "      <td>Davonte Davis</td>\n",
       "      <td>29.00</td>\n",
       "      <td>10</td>\n",
       "      <td>3</td>\n",
       "      <td>1</td>\n",
       "      <td>2</td>\n",
       "      <td>2</td>\n",
       "      <td>0</td>\n",
       "      <td>2</td>\n",
       "      <td>4</td>\n",
       "      <td>10</td>\n",
       "      <td>2</td>\n",
       "      <td>7</td>\n",
       "      <td>2</td>\n",
       "      <td>3</td>\n",
       "    </tr>\n",
       "  </tbody>\n",
       "</table>\n",
       "</div>"
      ],
      "text/plain": [
       "    gameId    gameDate  teamId teamMarket  playerId         fullName   mins  \\\n",
       "0  1977819  2021-11-13  103301   Arkansas   1687713     Chance Moore   1.93   \n",
       "1  1977819  2021-11-13  103301   Arkansas    950721        Trey Wade  16.23   \n",
       "2  1977819  2021-11-13  103301   Arkansas    942800         JD Notae  25.93   \n",
       "3  1977819  2021-11-13  103301   Arkansas   1596219  Khalen Robinson   9.72   \n",
       "4  1977819  2021-11-13  103301   Arkansas   1596216    Davonte Davis  29.00   \n",
       "\n",
       "   ptsScored  reb  orb  drb  stl  blk  tov  fgm  fga  fgm2  fga2  fgm3  fga3  \n",
       "0          0    0    0    0    0    0    0    0    0     0     0     0     0  \n",
       "1          5    2    1    1    0    1    0    2    4     1     2     1     2  \n",
       "2         18    1    0    1    2    0    0    7   13     3     6     4     7  \n",
       "3          3    0    0    0    1    0    1    1    3     0     1     1     2  \n",
       "4         10    3    1    2    2    0    2    4   10     2     7     2     3  "
      ]
     },
     "execution_count": 3,
     "metadata": {},
     "output_type": "execute_result"
    }
   ],
   "source": [
    "player_stats.head()"
   ]
  },
  {
   "cell_type": "markdown",
   "id": "7c8c6ad6-f7ad-475d-9eef-96d6eaedf27a",
   "metadata": {},
   "source": [
    "### 250 minutes minimum"
   ]
  },
  {
   "cell_type": "markdown",
   "id": "e3c6c542-923a-4c52-b525-25baf15e3921",
   "metadata": {},
   "source": [
    "Use logical subsetting on dataframe to have qualified players"
   ]
  },
  {
   "cell_type": "code",
   "execution_count": 4,
   "id": "696853c7-b633-44d9-9dbc-6df5e51c7106",
   "metadata": {},
   "outputs": [],
   "source": [
    "minutes_played_df = player_stats.groupby('fullName')[['mins']].agg(np.sum)\n",
    "qualified = minutes_played_df[minutes_played_df['mins']>=250].reset_index()\n",
    "qualified_players = qualified['fullName']\n",
    "player_stats_qualified = player_stats[player_stats['fullName'].isin(qualified_players)]"
   ]
  },
  {
   "cell_type": "markdown",
   "id": "8600f1d0-8d7f-4340-9beb-00f50ae69b89",
   "metadata": {},
   "source": [
    "## Q1 for one game "
   ]
  },
  {
   "cell_type": "code",
   "execution_count": 5,
   "id": "f674b872-0df5-4d66-8743-74cc06975922",
   "metadata": {},
   "outputs": [
    {
     "name": "stderr",
     "output_type": "stream",
     "text": [
      "/tmp/ipykernel_95/3097045287.py:1: SettingWithCopyWarning: \n",
      "A value is trying to be set on a copy of a slice from a DataFrame.\n",
      "Try using .loc[row_indexer,col_indexer] = value instead\n",
      "\n",
      "See the caveats in the documentation: https://pandas.pydata.org/pandas-docs/stable/user_guide/indexing.html#returning-a-view-versus-a-copy\n",
      "  player_stats_qualified['pts/min'] = player_stats_qualified['ptsScored'] / player_stats_qualified['mins']\n"
     ]
    }
   ],
   "source": [
    "player_stats_qualified['pts/min'] = player_stats_qualified['ptsScored'] / player_stats_qualified['mins']"
   ]
  },
  {
   "cell_type": "code",
   "execution_count": 6,
   "id": "1dbe85fd-a477-4de4-9602-89c983c32cf5",
   "metadata": {},
   "outputs": [
    {
     "data": {
      "text/plain": [
       "5504     Clarence Nadolny\n",
       "24067          Alyn Breed\n",
       "8329         Bijan Cortes\n",
       "Name: fullName, dtype: object"
      ]
     },
     "execution_count": 6,
     "metadata": {},
     "output_type": "execute_result"
    }
   ],
   "source": [
    "player_stats_qualified.sort_values('pts/min', ascending = False)['fullName'][0:3]"
   ]
  },
  {
   "cell_type": "markdown",
   "id": "3a49d0f3-2ac9-4312-a8df-795dc6c11524",
   "metadata": {},
   "source": [
    "## for season "
   ]
  },
  {
   "cell_type": "code",
   "execution_count": 7,
   "id": "7ce01547-650b-49da-a2f9-1527315c1eb9",
   "metadata": {},
   "outputs": [
    {
     "data": {
      "text/html": [
       "<div>\n",
       "<style scoped>\n",
       "    .dataframe tbody tr th:only-of-type {\n",
       "        vertical-align: middle;\n",
       "    }\n",
       "\n",
       "    .dataframe tbody tr th {\n",
       "        vertical-align: top;\n",
       "    }\n",
       "\n",
       "    .dataframe thead th {\n",
       "        text-align: right;\n",
       "    }\n",
       "</style>\n",
       "<table border=\"1\" class=\"dataframe\">\n",
       "  <thead>\n",
       "    <tr style=\"text-align: right;\">\n",
       "      <th></th>\n",
       "      <th>pts/min</th>\n",
       "    </tr>\n",
       "    <tr>\n",
       "      <th>fullName</th>\n",
       "      <th></th>\n",
       "    </tr>\n",
       "  </thead>\n",
       "  <tbody>\n",
       "    <tr>\n",
       "      <th>Keegan Murray</th>\n",
       "      <td>0.776261</td>\n",
       "    </tr>\n",
       "    <tr>\n",
       "      <th>Zach Edey</th>\n",
       "      <td>0.763278</td>\n",
       "    </tr>\n",
       "    <tr>\n",
       "      <th>Tari Eason</th>\n",
       "      <td>0.699757</td>\n",
       "    </tr>\n",
       "  </tbody>\n",
       "</table>\n",
       "</div>"
      ],
      "text/plain": [
       "                pts/min\n",
       "fullName               \n",
       "Keegan Murray  0.776261\n",
       "Zach Edey      0.763278\n",
       "Tari Eason     0.699757"
      ]
     },
     "execution_count": 7,
     "metadata": {},
     "output_type": "execute_result"
    }
   ],
   "source": [
    "player_stats_qualified.groupby('fullName')[['pts/min']].agg(np.mean).sort_values('pts/min',ascending=False)[0:3]"
   ]
  },
  {
   "cell_type": "markdown",
   "id": "55c63106-70f3-4fab-9638-84596fbeb610",
   "metadata": {},
   "source": [
    "## Q2"
   ]
  },
  {
   "cell_type": "markdown",
   "id": "8f6008eb-1fb1-43b6-9969-573814c9472e",
   "metadata": {},
   "source": [
    "Group by Name and aggregate by sum to get full season stats. Then logical subset to find qualified players"
   ]
  },
  {
   "cell_type": "code",
   "execution_count": 8,
   "id": "9806fcaa-8260-4018-9885-5e9760a1d8df",
   "metadata": {},
   "outputs": [],
   "source": [
    "#minimum 20 att\n",
    "attempts_df = player_stats_qualified.groupby('fullName')[['fga3']].agg(np.sum)\n",
    "qualified_att = attempts_df[attempts_df['fga3']>=20].reset_index()\n",
    "qualified_players2 = qualified_att['fullName']\n",
    "player_stats_qualified2 = player_stats_qualified[player_stats_qualified['fullName'].isin(qualified_players2)]"
   ]
  },
  {
   "cell_type": "code",
   "execution_count": 9,
   "id": "1d7e33d0-79f8-44c5-8272-29934e98ba69",
   "metadata": {},
   "outputs": [
    {
     "name": "stderr",
     "output_type": "stream",
     "text": [
      "/tmp/ipykernel_95/2169868313.py:1: SettingWithCopyWarning: \n",
      "A value is trying to be set on a copy of a slice from a DataFrame.\n",
      "Try using .loc[row_indexer,col_indexer] = value instead\n",
      "\n",
      "See the caveats in the documentation: https://pandas.pydata.org/pandas-docs/stable/user_guide/indexing.html#returning-a-view-versus-a-copy\n",
      "  player_stats_qualified2['3pt%'] = (player_stats_qualified2['fgm3'] / player_stats_qualified2['fga3']) *100\n"
     ]
    }
   ],
   "source": [
    "player_stats_qualified2['3pt%'] = (player_stats_qualified2['fgm3'] / player_stats_qualified2['fga3']) *100"
   ]
  },
  {
   "cell_type": "code",
   "execution_count": 10,
   "id": "5a231f68-e4fb-4652-86ba-52d3c7c46b64",
   "metadata": {},
   "outputs": [
    {
     "data": {
      "text/html": [
       "<div>\n",
       "<style scoped>\n",
       "    .dataframe tbody tr th:only-of-type {\n",
       "        vertical-align: middle;\n",
       "    }\n",
       "\n",
       "    .dataframe tbody tr th {\n",
       "        vertical-align: top;\n",
       "    }\n",
       "\n",
       "    .dataframe thead th {\n",
       "        text-align: right;\n",
       "    }\n",
       "</style>\n",
       "<table border=\"1\" class=\"dataframe\">\n",
       "  <thead>\n",
       "    <tr style=\"text-align: right;\">\n",
       "      <th></th>\n",
       "      <th>3pt%</th>\n",
       "    </tr>\n",
       "    <tr>\n",
       "      <th>fullName</th>\n",
       "      <th></th>\n",
       "    </tr>\n",
       "  </thead>\n",
       "  <tbody>\n",
       "    <tr>\n",
       "      <th>Shane Dezonie</th>\n",
       "      <td>53.333333</td>\n",
       "    </tr>\n",
       "    <tr>\n",
       "      <th>Olivier Nkamhoua</th>\n",
       "      <td>53.205128</td>\n",
       "    </tr>\n",
       "    <tr>\n",
       "      <th>Harrison Prieto</th>\n",
       "      <td>51.388889</td>\n",
       "    </tr>\n",
       "  </tbody>\n",
       "</table>\n",
       "</div>"
      ],
      "text/plain": [
       "                       3pt%\n",
       "fullName                   \n",
       "Shane Dezonie     53.333333\n",
       "Olivier Nkamhoua  53.205128\n",
       "Harrison Prieto   51.388889"
      ]
     },
     "execution_count": 10,
     "metadata": {},
     "output_type": "execute_result"
    }
   ],
   "source": [
    "player_stats_qualified2.groupby('fullName')[['3pt%']].agg(np.mean).sort_values('3pt%',ascending=False)[0:3]"
   ]
  },
  {
   "cell_type": "markdown",
   "id": "82f42ad7-a2b6-4e7c-a5ef-8f2af03736f6",
   "metadata": {},
   "source": [
    "## Q3"
   ]
  },
  {
   "cell_type": "markdown",
   "id": "3f7e6adb-161f-4b3b-9bac-7f355ec206b9",
   "metadata": {},
   "source": [
    "aggregate rows using variance calculation"
   ]
  },
  {
   "cell_type": "code",
   "execution_count": 11,
   "id": "e9ec8ddd-febf-49a1-b164-52bc30caf95a",
   "metadata": {},
   "outputs": [
    {
     "data": {
      "text/html": [
       "<div>\n",
       "<style scoped>\n",
       "    .dataframe tbody tr th:only-of-type {\n",
       "        vertical-align: middle;\n",
       "    }\n",
       "\n",
       "    .dataframe tbody tr th {\n",
       "        vertical-align: top;\n",
       "    }\n",
       "\n",
       "    .dataframe thead th {\n",
       "        text-align: right;\n",
       "    }\n",
       "</style>\n",
       "<table border=\"1\" class=\"dataframe\">\n",
       "  <thead>\n",
       "    <tr style=\"text-align: right;\">\n",
       "      <th></th>\n",
       "      <th>3pt var</th>\n",
       "    </tr>\n",
       "    <tr>\n",
       "      <th>fullName</th>\n",
       "      <th></th>\n",
       "    </tr>\n",
       "  </thead>\n",
       "  <tbody>\n",
       "    <tr>\n",
       "      <th>Brock Cunningham</th>\n",
       "      <td>2368.373275</td>\n",
       "    </tr>\n",
       "    <tr>\n",
       "      <th>Ethan Morton</th>\n",
       "      <td>2367.816092</td>\n",
       "    </tr>\n",
       "    <tr>\n",
       "      <th>Ahmad Rand</th>\n",
       "      <td>2344.771242</td>\n",
       "    </tr>\n",
       "  </tbody>\n",
       "</table>\n",
       "</div>"
      ],
      "text/plain": [
       "                      3pt var\n",
       "fullName                     \n",
       "Brock Cunningham  2368.373275\n",
       "Ethan Morton      2367.816092\n",
       "Ahmad Rand        2344.771242"
      ]
     },
     "execution_count": 11,
     "metadata": {},
     "output_type": "execute_result"
    }
   ],
   "source": [
    "names_by_variance = player_stats_qualified2.groupby('fullName')[['3pt%']].agg(np.var).sort_values('3pt%',ascending=False)[0:3]\n",
    "names_by_variance.rename(columns = {'3pt%' : '3pt var'})"
   ]
  },
  {
   "cell_type": "markdown",
   "id": "d4db8500-80fa-4c1e-9574-c08af1f6e6bd",
   "metadata": {},
   "source": [
    "## Q4\n",
    "group by team and game date and aggregate points by the max. Retrieve names"
   ]
  },
  {
   "cell_type": "code",
   "execution_count": 13,
   "id": "920d1840-22b7-4557-90f1-7cdb017030a9",
   "metadata": {},
   "outputs": [
    {
     "data": {
      "text/html": [
       "<div>\n",
       "<style scoped>\n",
       "    .dataframe tbody tr th:only-of-type {\n",
       "        vertical-align: middle;\n",
       "    }\n",
       "\n",
       "    .dataframe tbody tr th {\n",
       "        vertical-align: top;\n",
       "    }\n",
       "\n",
       "    .dataframe thead th {\n",
       "        text-align: right;\n",
       "    }\n",
       "</style>\n",
       "<table border=\"1\" class=\"dataframe\">\n",
       "  <thead>\n",
       "    <tr style=\"text-align: right;\">\n",
       "      <th></th>\n",
       "      <th>teamId</th>\n",
       "      <th>gameDate</th>\n",
       "      <th>ptsScored</th>\n",
       "      <th>fullName</th>\n",
       "    </tr>\n",
       "  </thead>\n",
       "  <tbody>\n",
       "    <tr>\n",
       "      <th>0</th>\n",
       "      <td>103257</td>\n",
       "      <td>2021-11-09</td>\n",
       "      <td>23</td>\n",
       "      <td>Brandon Newman</td>\n",
       "    </tr>\n",
       "    <tr>\n",
       "      <th>1</th>\n",
       "      <td>103257</td>\n",
       "      <td>2021-11-12</td>\n",
       "      <td>27</td>\n",
       "      <td>Brandon Newman</td>\n",
       "    </tr>\n",
       "    <tr>\n",
       "      <th>2</th>\n",
       "      <td>103257</td>\n",
       "      <td>2021-11-16</td>\n",
       "      <td>20</td>\n",
       "      <td>Brandon Newman</td>\n",
       "    </tr>\n",
       "    <tr>\n",
       "      <th>3</th>\n",
       "      <td>103257</td>\n",
       "      <td>2021-11-20</td>\n",
       "      <td>23</td>\n",
       "      <td>Brandon Newman</td>\n",
       "    </tr>\n",
       "    <tr>\n",
       "      <th>4</th>\n",
       "      <td>103257</td>\n",
       "      <td>2021-11-21</td>\n",
       "      <td>21</td>\n",
       "      <td>Brandon Newman</td>\n",
       "    </tr>\n",
       "    <tr>\n",
       "      <th>...</th>\n",
       "      <td>...</td>\n",
       "      <td>...</td>\n",
       "      <td>...</td>\n",
       "      <td>...</td>\n",
       "    </tr>\n",
       "    <tr>\n",
       "      <th>2561</th>\n",
       "      <td>104509</td>\n",
       "      <td>2022-03-15</td>\n",
       "      <td>14</td>\n",
       "      <td>Adam Kunkel</td>\n",
       "    </tr>\n",
       "    <tr>\n",
       "      <th>2562</th>\n",
       "      <td>104509</td>\n",
       "      <td>2022-03-20</td>\n",
       "      <td>16</td>\n",
       "      <td>Adam Kunkel</td>\n",
       "    </tr>\n",
       "    <tr>\n",
       "      <th>2563</th>\n",
       "      <td>104509</td>\n",
       "      <td>2022-03-22</td>\n",
       "      <td>16</td>\n",
       "      <td>Adam Kunkel</td>\n",
       "    </tr>\n",
       "    <tr>\n",
       "      <th>2564</th>\n",
       "      <td>104509</td>\n",
       "      <td>2022-03-29</td>\n",
       "      <td>18</td>\n",
       "      <td>Adam Kunkel</td>\n",
       "    </tr>\n",
       "    <tr>\n",
       "      <th>2565</th>\n",
       "      <td>104509</td>\n",
       "      <td>2022-03-31</td>\n",
       "      <td>21</td>\n",
       "      <td>Adam Kunkel</td>\n",
       "    </tr>\n",
       "  </tbody>\n",
       "</table>\n",
       "<p>2566 rows × 4 columns</p>\n",
       "</div>"
      ],
      "text/plain": [
       "      teamId    gameDate  ptsScored        fullName\n",
       "0     103257  2021-11-09         23  Brandon Newman\n",
       "1     103257  2021-11-12         27  Brandon Newman\n",
       "2     103257  2021-11-16         20  Brandon Newman\n",
       "3     103257  2021-11-20         23  Brandon Newman\n",
       "4     103257  2021-11-21         21  Brandon Newman\n",
       "...      ...         ...        ...             ...\n",
       "2561  104509  2022-03-15         14     Adam Kunkel\n",
       "2562  104509  2022-03-20         16     Adam Kunkel\n",
       "2563  104509  2022-03-22         16     Adam Kunkel\n",
       "2564  104509  2022-03-29         18     Adam Kunkel\n",
       "2565  104509  2022-03-31         21     Adam Kunkel\n",
       "\n",
       "[2566 rows x 4 columns]"
      ]
     },
     "execution_count": 13,
     "metadata": {},
     "output_type": "execute_result"
    }
   ],
   "source": [
    "gpby_games=player_stats.groupby(['teamId','gameDate']).agg({'ptsScored':np.max,'fullName':'min'}).reset_index()\n",
    "gpby_games"
   ]
  },
  {
   "cell_type": "markdown",
   "id": "4bbb5c6f-d746-40ba-896f-8d88ccd906fa",
   "metadata": {},
   "source": [
    "Now group by team to find number of team games.... then group by both team and name to find count of each player being lead scorer"
   ]
  },
  {
   "cell_type": "code",
   "execution_count": 14,
   "id": "8c53a51c-ceb6-4c63-9880-3e97bba43582",
   "metadata": {},
   "outputs": [],
   "source": [
    "gpby_teams=gpby_games.groupby('teamId').size().to_frame()\n",
    "#gpby_teams.columns = ['# team games']"
   ]
  },
  {
   "cell_type": "code",
   "execution_count": 15,
   "id": "8e98ef45-1652-4553-bbb9-c40aad55f8f4",
   "metadata": {},
   "outputs": [
    {
     "data": {
      "text/html": [
       "<div>\n",
       "<style scoped>\n",
       "    .dataframe tbody tr th:only-of-type {\n",
       "        vertical-align: middle;\n",
       "    }\n",
       "\n",
       "    .dataframe tbody tr th {\n",
       "        vertical-align: top;\n",
       "    }\n",
       "\n",
       "    .dataframe thead th {\n",
       "        text-align: right;\n",
       "    }\n",
       "</style>\n",
       "<table border=\"1\" class=\"dataframe\">\n",
       "  <thead>\n",
       "    <tr style=\"text-align: right;\">\n",
       "      <th></th>\n",
       "      <th></th>\n",
       "      <th>0</th>\n",
       "    </tr>\n",
       "    <tr>\n",
       "      <th>fullName</th>\n",
       "      <th>teamId</th>\n",
       "      <th></th>\n",
       "    </tr>\n",
       "  </thead>\n",
       "  <tbody>\n",
       "    <tr>\n",
       "      <th>A.J. Hoggard</th>\n",
       "      <th>103903</th>\n",
       "      <td>36</td>\n",
       "    </tr>\n",
       "    <tr>\n",
       "      <th>A.J. Reeves</th>\n",
       "      <th>104112</th>\n",
       "      <td>28</td>\n",
       "    </tr>\n",
       "    <tr>\n",
       "      <th>AJ Griffin</th>\n",
       "      <th>103549</th>\n",
       "      <td>39</td>\n",
       "    </tr>\n",
       "    <tr>\n",
       "      <th>AJ Wilson</th>\n",
       "      <th>104229</th>\n",
       "      <td>22</td>\n",
       "    </tr>\n",
       "    <tr>\n",
       "      <th>Aaron Cash</th>\n",
       "      <th>104320</th>\n",
       "      <td>37</td>\n",
       "    </tr>\n",
       "    <tr>\n",
       "      <th>...</th>\n",
       "      <th>...</th>\n",
       "      <td>...</td>\n",
       "    </tr>\n",
       "    <tr>\n",
       "      <th>Jaheam Cornwall</th>\n",
       "      <th>104078</th>\n",
       "      <td>1</td>\n",
       "    </tr>\n",
       "    <tr>\n",
       "      <th>Jamaine Mann</th>\n",
       "      <th>104399</th>\n",
       "      <td>7</td>\n",
       "    </tr>\n",
       "    <tr>\n",
       "      <th>Jordan Geronimo</th>\n",
       "      <th>103730</th>\n",
       "      <td>17</td>\n",
       "    </tr>\n",
       "    <tr>\n",
       "      <th>Jordan Wright</th>\n",
       "      <th>104399</th>\n",
       "      <td>2</td>\n",
       "    </tr>\n",
       "    <tr>\n",
       "      <th>Miller Kopp</th>\n",
       "      <th>103730</th>\n",
       "      <td>1</td>\n",
       "    </tr>\n",
       "  </tbody>\n",
       "</table>\n",
       "<p>173 rows × 1 columns</p>\n",
       "</div>"
      ],
      "text/plain": [
       "                         0\n",
       "fullName        teamId    \n",
       "A.J. Hoggard    103903  36\n",
       "A.J. Reeves     104112  28\n",
       "AJ Griffin      103549  39\n",
       "AJ Wilson       104229  22\n",
       "Aaron Cash      104320  37\n",
       "...                     ..\n",
       "Jaheam Cornwall 104078   1\n",
       "Jamaine Mann    104399   7\n",
       "Jordan Geronimo 103730  17\n",
       "Jordan Wright   104399   2\n",
       "Miller Kopp     103730   1\n",
       "\n",
       "[173 rows x 1 columns]"
      ]
     },
     "execution_count": 15,
     "metadata": {},
     "output_type": "execute_result"
    }
   ],
   "source": [
    "gpby_names_team = gpby_games.groupby(['fullName','teamId']).size().to_frame()\n",
    "gpby_names_team"
   ]
  },
  {
   "cell_type": "markdown",
   "id": "055f1d7d-641b-4a47-9cd3-02bcdf730e91",
   "metadata": {},
   "source": [
    "Merge the two dataframes on teamId to easily access how many of a given team's games a player was the leading scorer"
   ]
  },
  {
   "cell_type": "code",
   "execution_count": 16,
   "id": "6520c94b-a90b-4b07-8d30-4e39a9ebde8d",
   "metadata": {},
   "outputs": [],
   "source": [
    "#pd.merge(left = gpby_names_team , right = gpby_teams, left_on = \"teamId\", right_on=\"teamId\")\n",
    "final_df = gpby_names_team.merge(gpby_teams, how=\"left\", left_on = \"teamId\", right_index = True)\n"
   ]
  },
  {
   "cell_type": "code",
   "execution_count": 17,
   "id": "2465cf92-6c68-4990-9e23-09839c8345ac",
   "metadata": {},
   "outputs": [],
   "source": [
    "final_df = final_df.rename(columns = {'0_x' : 'times leading scorer', '0_y': '# team games'})"
   ]
  },
  {
   "cell_type": "code",
   "execution_count": 18,
   "id": "7cb73d69-16d7-459c-a7dd-907af51130f1",
   "metadata": {},
   "outputs": [],
   "source": [
    "final_df['% games leading scorer'] = (final_df['times leading scorer'] / final_df['# team games'])*100 "
   ]
  },
  {
   "cell_type": "code",
   "execution_count": 19,
   "id": "b0e167c7-8157-4f0e-8448-8507403ae4aa",
   "metadata": {},
   "outputs": [
    {
     "data": {
      "text/html": [
       "<div>\n",
       "<style scoped>\n",
       "    .dataframe tbody tr th:only-of-type {\n",
       "        vertical-align: middle;\n",
       "    }\n",
       "\n",
       "    .dataframe tbody tr th {\n",
       "        vertical-align: top;\n",
       "    }\n",
       "\n",
       "    .dataframe thead th {\n",
       "        text-align: right;\n",
       "    }\n",
       "</style>\n",
       "<table border=\"1\" class=\"dataframe\">\n",
       "  <thead>\n",
       "    <tr style=\"text-align: right;\">\n",
       "      <th></th>\n",
       "      <th></th>\n",
       "      <th>times leading scorer</th>\n",
       "      <th># team games</th>\n",
       "      <th>% games leading scorer</th>\n",
       "    </tr>\n",
       "    <tr>\n",
       "      <th>fullName</th>\n",
       "      <th>teamId</th>\n",
       "      <th></th>\n",
       "      <th></th>\n",
       "      <th></th>\n",
       "    </tr>\n",
       "  </thead>\n",
       "  <tbody>\n",
       "    <tr>\n",
       "      <th>A.J. Hoggard</th>\n",
       "      <th>103903</th>\n",
       "      <td>36</td>\n",
       "      <td>36</td>\n",
       "      <td>100.0</td>\n",
       "    </tr>\n",
       "    <tr>\n",
       "      <th>Alondes Williams</th>\n",
       "      <th>104413</th>\n",
       "      <td>35</td>\n",
       "      <td>35</td>\n",
       "      <td>100.0</td>\n",
       "    </tr>\n",
       "    <tr>\n",
       "      <th>Brandon Johnson</th>\n",
       "      <th>103525</th>\n",
       "      <td>31</td>\n",
       "      <td>31</td>\n",
       "      <td>100.0</td>\n",
       "    </tr>\n",
       "  </tbody>\n",
       "</table>\n",
       "</div>"
      ],
      "text/plain": [
       "                         times leading scorer  # team games  \\\n",
       "fullName         teamId                                       \n",
       "A.J. Hoggard     103903                    36            36   \n",
       "Alondes Williams 104413                    35            35   \n",
       "Brandon Johnson  103525                    31            31   \n",
       "\n",
       "                         % games leading scorer  \n",
       "fullName         teamId                          \n",
       "A.J. Hoggard     103903                   100.0  \n",
       "Alondes Williams 104413                   100.0  \n",
       "Brandon Johnson  103525                   100.0  "
      ]
     },
     "execution_count": 19,
     "metadata": {},
     "output_type": "execute_result"
    }
   ],
   "source": [
    "final_df.sort_values('% games leading scorer', ascending=False)[0:3]"
   ]
  },
  {
   "cell_type": "code",
   "execution_count": null,
   "id": "0738785b-baa5-4614-ac09-b87074d41ce1",
   "metadata": {},
   "outputs": [],
   "source": []
  }
 ],
 "metadata": {
  "kernelspec": {
   "display_name": "Python 3 (ipykernel)",
   "language": "python",
   "name": "python3"
  },
  "language_info": {
   "codemirror_mode": {
    "name": "ipython",
    "version": 3
   },
   "file_extension": ".py",
   "mimetype": "text/x-python",
   "name": "python",
   "nbconvert_exporter": "python",
   "pygments_lexer": "ipython3",
   "version": "3.9.0"
  }
 },
 "nbformat": 4,
 "nbformat_minor": 5
}
